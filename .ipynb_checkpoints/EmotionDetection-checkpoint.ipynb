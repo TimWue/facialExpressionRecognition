{
 "cells": [
  {
   "cell_type": "code",
   "execution_count": 37,
   "id": "e51ca0c3",
   "metadata": {},
   "outputs": [],
   "source": [
    "from os import listdir\n",
    "from PIL import Image as PImage\n",
    "import numpy as np\n",
    "import matplotlib.pyplot as plt\n",
    "import matplotlib as mpl\n",
    "import tensorflow as tf\n",
    "from tensorflow import keras\n",
    "from tensorflow.keras import layers\n",
    "from keras.utils import image_dataset_from_directory"
   ]
  },
  {
   "cell_type": "code",
   "execution_count": 38,
   "id": "12a363cc",
   "metadata": {},
   "outputs": [],
   "source": [
    "def loadImages(path):\n",
    "    imagesList = listdir(path)\n",
    "    loadedImages = []\n",
    "    for image in imagesList:\n",
    "        img = PImage.open(path + image)\n",
    "        loadedImages.append(img)\n",
    "\n",
    "    return loadedImages"
   ]
  },
  {
   "cell_type": "code",
   "execution_count": 39,
   "id": "974179a3",
   "metadata": {},
   "outputs": [],
   "source": [
    "images = loadImages(\"./archive/train/angry/\")"
   ]
  },
  {
   "cell_type": "code",
   "execution_count": 40,
   "id": "56427c79",
   "metadata": {},
   "outputs": [
    {
     "name": "stdout",
     "output_type": "stream",
     "text": [
      "[[ 50  32  15 ... 133 151  86]\n",
      " [ 57  34  22 ... 138 151  89]\n",
      " [ 61  30  24 ... 142 149  89]\n",
      " ...\n",
      " [103 100 100 ... 149 104  85]\n",
      " [107 111 113 ... 151 120  86]\n",
      " [104 104 112 ... 143 136  83]]\n"
     ]
    }
   ],
   "source": [
    "image = np.array(images[0])\n",
    "print(image)"
   ]
  },
  {
   "cell_type": "code",
   "execution_count": 41,
   "id": "9f151551",
   "metadata": {},
   "outputs": [
    {
     "data": {
      "text/plain": [
       "<matplotlib.image.AxesImage at 0x10ff0ada4a0>"
      ]
     },
     "execution_count": 41,
     "metadata": {},
     "output_type": "execute_result"
    },
    {
     "data": {
      "image/png": "[encoded data removed]",
      "text/plain": [
       "<Figure size 432x288 with 1 Axes>"
      ]
     },
     "metadata": {
      "needs_background": "light"
     },
     "output_type": "display_data"
    }
   ],
   "source": [
    "fig = plt.figure(frameon=False)\n",
    "plt.imshow(image)"
   ]
  },
  {
   "cell_type": "code",
   "execution_count": 42,
   "id": "f07bddaf",
   "metadata": {},
   "outputs": [
    {
     "name": "stdout",
     "output_type": "stream",
     "text": [
      "Found 28709 files belonging to 7 classes.\n",
      "Found 7178 files belonging to 7 classes.\n"
     ]
    }
   ],
   "source": [
    "dataset_train = image_dataset_from_directory(\"archive/train/\", labels='inferred',color_mode='grayscale',image_size=(48,48))\n",
    "dataset_test = image_dataset_from_directory(\"archive/test/\", labels='inferred',color_mode='grayscale',image_size=(48,48))"
   ]
  },
  {
   "cell_type": "code",
   "execution_count": 43,
   "id": "6039ae7f",
   "metadata": {},
   "outputs": [
    {
     "name": "stdout",
     "output_type": "stream",
     "text": [
      "['angry', 'disgust', 'fear', 'happy', 'neutral', 'sad', 'surprise']\n"
     ]
    }
   ],
   "source": [
    "class_names = dataset_train.class_names\n",
    "print(class_names)"
   ]
  },
  {
   "cell_type": "code",
   "execution_count": 44,
   "id": "f772a9ea",
   "metadata": {},
   "outputs": [],
   "source": [
    "AUTOTUNE = tf.data.AUTOTUNE\n",
    "dataset_train = dataset_train.cache().shuffle(1000).prefetch(buffer_size=AUTOTUNE)\n"
   ]
  },
  {
   "cell_type": "code",
   "execution_count": 45,
   "id": "f1b9219f",
   "metadata": {},
   "outputs": [],
   "source": [
    "num_classes = len(class_names)\n",
    "\n",
    "model = keras.Sequential([\n",
    "  layers.Rescaling(1./255, input_shape=(48, 48, 1)),\n",
    "  layers.Conv2D(16, 1, padding='same', activation='relu'),\n",
    "  layers.MaxPooling2D(),\n",
    "  layers.Conv2D(32, 1, padding='same', activation='relu'),\n",
    "  layers.MaxPooling2D(),\n",
    "  layers.Conv2D(64, 1, padding='same', activation='relu'),\n",
    "  layers.MaxPooling2D(),\n",
    "  layers.Flatten(),\n",
    "  layers.Dense(128, activation='relu'),\n",
    "  layers.Dense(num_classes)\n",
    "])\n"
   ]
  },
  {
   "cell_type": "code",
   "execution_count": 46,
   "id": "a19f60f0",
   "metadata": {},
   "outputs": [
    {
     "name": "stdout",
     "output_type": "stream",
     "text": [
      "Model: \"sequential_1\"\n",
      "_________________________________________________________________\n",
      " Layer (type)                Output Shape              Param #   \n",
      "=================================================================\n",
      " rescaling_1 (Rescaling)     (None, 48, 48, 1)         0         \n",
      "                                                                 \n",
      " conv2d_3 (Conv2D)           (None, 48, 48, 16)        32        \n",
      "                                                                 \n",
      " max_pooling2d_3 (MaxPooling  (None, 24, 24, 16)       0         \n",
      " 2D)                                                             \n",
      "                                                                 \n",
      " conv2d_4 (Conv2D)           (None, 24, 24, 32)        544       \n",
      "                                                                 \n",
      " max_pooling2d_4 (MaxPooling  (None, 12, 12, 32)       0         \n",
      " 2D)                                                             \n",
      "                                                                 \n",
      " conv2d_5 (Conv2D)           (None, 12, 12, 64)        2112      \n",
      "                                                                 \n",
      " max_pooling2d_5 (MaxPooling  (None, 6, 6, 64)         0         \n",
      " 2D)                                                             \n",
      "                                                                 \n",
      " flatten_1 (Flatten)         (None, 2304)              0         \n",
      "                                                                 \n",
      " dense_2 (Dense)             (None, 128)               295040    \n",
      "                                                                 \n",
      " dense_3 (Dense)             (None, 7)                 903       \n",
      "                                                                 \n",
      "=================================================================\n",
      "Total params: 298,631\n",
      "Trainable params: 298,631\n",
      "Non-trainable params: 0\n",
      "_________________________________________________________________\n"
     ]
    }
   ],
   "source": [
    "model.compile(optimizer='adam',\n",
    "              loss=tf.keras.losses.SparseCategoricalCrossentropy(from_logits=True),\n",
    "              metrics=['accuracy'])\n",
    "model.summary()\n"
   ]
  },
  {
   "cell_type": "code",
   "execution_count": 47,
   "id": "8e1f61f6",
   "metadata": {},
   "outputs": [
    {
     "name": "stdout",
     "output_type": "stream",
     "text": [
      "Epoch 1/10\n",
      "898/898 [==============================] - 26s 20ms/step - loss: 1.7494 - accuracy: 0.2810 - val_loss: 1.6978 - val_accuracy: 0.3084\n",
      "Epoch 2/10\n",
      "898/898 [==============================] - 21s 23ms/step - loss: 1.6745 - accuracy: 0.3301 - val_loss: 1.6638 - val_accuracy: 0.3461\n",
      "Epoch 3/10\n",
      "898/898 [==============================] - 19s 21ms/step - loss: 1.6385 - accuracy: 0.3528 - val_loss: 1.6248 - val_accuracy: 0.3700\n",
      "Epoch 4/10\n",
      "898/898 [==============================] - 19s 21ms/step - loss: 1.6105 - accuracy: 0.3680 - val_loss: 1.6062 - val_accuracy: 0.3781\n",
      "Epoch 5/10\n",
      "898/898 [==============================] - 19s 22ms/step - loss: 1.5897 - accuracy: 0.3802 - val_loss: 1.5920 - val_accuracy: 0.3851\n",
      "Epoch 6/10\n",
      "898/898 [==============================] - 17s 19ms/step - loss: 1.5705 - accuracy: 0.3892 - val_loss: 1.5845 - val_accuracy: 0.3816\n",
      "Epoch 7/10\n",
      "898/898 [==============================] - 17s 19ms/step - loss: 1.5538 - accuracy: 0.3942 - val_loss: 1.5704 - val_accuracy: 0.3930\n",
      "Epoch 8/10\n",
      "898/898 [==============================] - 17s 19ms/step - loss: 1.5335 - accuracy: 0.4025 - val_loss: 1.5594 - val_accuracy: 0.3991\n",
      "Epoch 9/10\n",
      "898/898 [==============================] - 17s 19ms/step - loss: 1.5129 - accuracy: 0.4102 - val_loss: 1.5469 - val_accuracy: 0.4078\n",
      "Epoch 10/10\n",
      "898/898 [==============================] - 17s 19ms/step - loss: 1.4908 - accuracy: 0.4212 - val_loss: 1.5492 - val_accuracy: 0.4001\n"
     ]
    }
   ],
   "source": [
    "epochs=10\n",
    "history = model.fit(\n",
    "  dataset_train,\n",
    "  validation_data=dataset_test,\n",
    "  epochs=epochs\n",
    ")\n"
   ]
  },
  {
   "cell_type": "code",
   "execution_count": null,
   "id": "968618e6",
   "metadata": {},
   "outputs": [],
   "source": []
  },
  {
   "cell_type": "code",
   "execution_count": null,
   "id": "78d6eb5f",
   "metadata": {},
   "outputs": [],
   "source": []
  },
  {
   "cell_type": "code",
   "execution_count": null,
   "id": "3c12005d",
   "metadata": {
    "scrolled": false
   },
   "outputs": [],
   "source": []
  }
 ],
 "metadata": {
  "kernelspec": {
   "display_name": "Python 3 (ipykernel)",
   "language": "python",
   "name": "python3"
  },
  "language_info": {
   "codemirror_mode": {
    "name": "ipython",
    "version": 3
   },
   "file_extension": ".py",
   "mimetype": "text/x-python",
   "name": "python",
   "nbconvert_exporter": "python",
   "pygments_lexer": "ipython3",
   "version": "3.10.0"
  }
 },
 "nbformat": 4,
 "nbformat_minor": 5
}
