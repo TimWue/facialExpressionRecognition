{
 "cells": [
  {
   "cell_type": "code",
   "execution_count": 1,
   "id": "e51ca0c3",
   "metadata": {},
   "outputs": [],
   "source": [
    "from os import listdir\n",
    "from PIL import Image as PImage\n",
    "import numpy as np\n",
    "import matplotlib.pyplot as plt\n",
    "import matplotlib as mpl\n",
    "import tensorflow as tf\n",
    "from tensorflow import keras\n",
    "from tensorflow.keras import layers\n",
    "from keras.utils import image_dataset_from_directory\n",
    "from tensorflow.keras.models import Model\n",
    "from tensorflow.keras.layers import Input\n",
    "from tensorflow.keras.layers import Dense\n",
    "from tensorflow.keras.layers import Conv2D\n",
    "from tensorflow.keras.layers import Dropout\n",
    "from tensorflow.keras.layers import Flatten\n",
    "from tensorflow.keras.layers import concatenate\n",
    "from tensorflow.keras.layers import MaxPooling2D\n",
    "from tensorflow.keras.optimizers import SGD"
   ]
  },
  {
   "cell_type": "code",
   "execution_count": 38,
   "id": "f07bddaf",
   "metadata": {},
   "outputs": [
    {
     "name": "stdout",
     "output_type": "stream",
     "text": [
      "Found 28709 files belonging to 7 classes.\n",
      "Found 7178 files belonging to 7 classes.\n"
     ]
    }
   ],
   "source": [
    "image_size_x = 48\n",
    "image_size_y = 48\n",
    "\n",
    "dataset_train = image_dataset_from_directory(\"../data/fer2013/train/\", labels='inferred',image_size=(image_size_x,image_size_y))\n",
    "dataset_test = image_dataset_from_directory(\"../data/fer2013/test/\", labels='inferred',image_size=(image_size_x,image_size_y))"
   ]
  },
  {
   "cell_type": "code",
   "execution_count": 4,
   "id": "6039ae7f",
   "metadata": {},
   "outputs": [
    {
     "name": "stdout",
     "output_type": "stream",
     "text": [
      "['angry', 'disgust', 'fear', 'happy', 'neutral', 'sad', 'surprise']\n"
     ]
    }
   ],
   "source": [
    "class_names = dataset_train.class_names\n",
    "print(class_names)"
   ]
  },
  {
   "cell_type": "code",
   "execution_count": 5,
   "id": "f772a9ea",
   "metadata": {},
   "outputs": [
    {
     "name": "stdout",
     "output_type": "stream",
     "text": [
      "<PrefetchDataset element_spec=(TensorSpec(shape=(None, 48, 48, 1), dtype=tf.float32, name=None), TensorSpec(shape=(None,), dtype=tf.int32, name=None))>\n"
     ]
    }
   ],
   "source": [
    "AUTOTUNE = tf.data.AUTOTUNE\n",
    "dataset_train = dataset_train.cache().shuffle(1000).prefetch(buffer_size=AUTOTUNE)\n",
    "print(dataset_train)"
   ]
  },
  {
   "cell_type": "code",
   "execution_count": 39,
   "id": "f1b9219f",
   "metadata": {},
   "outputs": [],
   "source": [
    "num_classes = len(class_names)\n",
    "\n",
    "model = keras.Sequential([\n",
    "  layers.Rescaling(1./255, input_shape=(image_size_x , image_size_y,3)),\n",
    "  layers.Conv2D(16, 3, padding='same', activation='relu'),\n",
    "  layers.MaxPooling2D(),\n",
    "  layers.Conv2D(32, 3, padding='same', activation='relu'),\n",
    "  layers.MaxPooling2D(),\n",
    "  layers.Conv2D(64, 3, padding='same', activation='relu'),\n",
    "  layers.MaxPooling2D(),\n",
    "  layers.Flatten(),\n",
    "  layers.Dense(128, activation='relu'),\n",
    "  layers.Dense(num_classes)\n",
    "])\n",
    "\n",
    "# verändert von https://blog.devgenius.io/facial-expression-recognition-with-tensorflow-90f6174163c3\n",
    "#model = keras.Sequential([\n",
    "#    layers.Rescaling(1./255, input_shape=(image_size_x , image_size_y,1)),\n",
    "#    tf.keras.layers.Conv2D(512, 3, activation=\"relu\", padding=\"same\"),\n",
    "#    layers.BatchNormalization(),\n",
    "#    tf.keras.layers.Conv2D(256, 3, activation=\"relu\", padding=\"same\"),\n",
    "#    layers.BatchNormalization(),\n",
    "#    tf.keras.layers.MaxPool2D(2),\n",
    "#    tf.keras.layers.Dropout(0.5),\n",
    "#    tf.keras.layers.Conv2D(128, (3,3), activation=\"relu\", padding=\"same\"),\n",
    "#    layers.BatchNormalization(),\n",
    "#    tf.keras.layers.Conv2D(64, (3,3), activation=\"relu\", padding=\"same\"),\n",
    "#    layers.BatchNormalization(),\n",
    "#    tf.keras.layers.MaxPool2D(2),\n",
    "#    tf.keras.layers.Dropout(0.5),\n",
    "#    tf.keras.layers.Conv2D(32, 3, activation=\"relu\", padding=\"same\"),\n",
    "#    tf.keras.layers.MaxPool2D(2),\n",
    "#    tf.keras.layers.Dropout(0.5),\n",
    "#    tf.keras.layers.Flatten(),\n",
    "# layers.Dense(128, activation='relu'),\n",
    "#  layers.Dense(num_classes)])"
   ]
  },
  {
   "cell_type": "code",
   "execution_count": 40,
   "id": "21343baf",
   "metadata": {},
   "outputs": [
    {
     "name": "stdout",
     "output_type": "stream",
     "text": [
      "Model: \"sequential_3\"\n",
      "_________________________________________________________________\n",
      " Layer (type)                Output Shape              Param #   \n",
      "=================================================================\n",
      " rescaling_2 (Rescaling)     (None, 48, 48, 3)         0         \n",
      "                                                                 \n",
      " conv2d_6 (Conv2D)           (None, 48, 48, 16)        448       \n",
      "                                                                 \n",
      " max_pooling2d_6 (MaxPooling  (None, 24, 24, 16)       0         \n",
      " 2D)                                                             \n",
      "                                                                 \n",
      " conv2d_7 (Conv2D)           (None, 24, 24, 32)        4640      \n",
      "                                                                 \n",
      " max_pooling2d_7 (MaxPooling  (None, 12, 12, 32)       0         \n",
      " 2D)                                                             \n",
      "                                                                 \n",
      " conv2d_8 (Conv2D)           (None, 12, 12, 64)        18496     \n",
      "                                                                 \n",
      " max_pooling2d_8 (MaxPooling  (None, 6, 6, 64)         0         \n",
      " 2D)                                                             \n",
      "                                                                 \n",
      " flatten_2 (Flatten)         (None, 2304)              0         \n",
      "                                                                 \n",
      " dense_4 (Dense)             (None, 128)               295040    \n",
      "                                                                 \n",
      " dense_5 (Dense)             (None, 7)                 903       \n",
      "                                                                 \n",
      "=================================================================\n",
      "Total params: 319,527\n",
      "Trainable params: 319,527\n",
      "Non-trainable params: 0\n",
      "_________________________________________________________________\n"
     ]
    }
   ],
   "source": [
    "model.compile(optimizer='adam',\n",
    "              loss=tf.keras.losses.SparseCategoricalCrossentropy(from_logits=True),\n",
    "              metrics=['accuracy'])\n",
    "model.summary()"
   ]
  },
  {
   "cell_type": "code",
   "execution_count": 54,
   "id": "56c0435d",
   "metadata": {},
   "outputs": [
    {
     "name": "stderr",
     "output_type": "stream",
     "text": [
      "Clipping input data to the valid range for imshow with RGB data ([0..1] for floats or [0..255] for integers).\n"
     ]
    },
    {
     "data": {
      "image/png": "[encoded data removed]",
      "text/plain": [
       "<Figure size 432x288 with 1 Axes>"
      ]
     },
     "metadata": {
      "needs_background": "light"
     },
     "output_type": "display_data"
    }
   ],
   "source": [
    "for images, labels in dataset_train.take(1):\n",
    "    first_image_of_batch = images.numpy()[0]\n",
    "    first_label_of_batch = labels.numpy()[0]\n",
    "    assert(image_size_x * image_size_y * 3 == first_image_of_batch.size)\n",
    "    fig = plt.figure(frameon=False)\n",
    "    plt.imshow(first_image_of_batch.reshape(image_size_x,image_size_y,3),cmap=\"gray\")\n",
    "    plt.title(class_names[first_label_of_batch])\n"
   ]
  },
  {
   "cell_type": "code",
   "execution_count": 9,
   "id": "d3378f3b",
   "metadata": {},
   "outputs": [
    {
     "data": {
      "text/plain": [
       "<BarContainer object of 10 artists>"
      ]
     },
     "execution_count": 9,
     "metadata": {},
     "output_type": "execute_result"
    },
    {
     "data": {
      "image/png": "[encoded data removed]",
      "text/plain": [
       "<Figure size 432x288 with 1 Axes>"
      ]
     },
     "metadata": {
      "needs_background": "light"
     },
     "output_type": "display_data"
    }
   ],
   "source": [
    "H, bins = np.histogram(iter(dataset_train.take(1)).next()[0][0].numpy())\n",
    "\n",
    "plt.bar(bins[:-1],H)"
   ]
  },
  {
   "cell_type": "code",
   "execution_count": 42,
   "id": "8e1f61f6",
   "metadata": {},
   "outputs": [
    {
     "name": "stdout",
     "output_type": "stream",
     "text": [
      "Epoch 1/5\n",
      "898/898 [==============================] - 46s 51ms/step - loss: 1.6508 - accuracy: 0.3409 - val_loss: 1.4607 - val_accuracy: 0.4415\n",
      "Epoch 2/5\n",
      "898/898 [==============================] - 46s 51ms/step - loss: 1.3922 - accuracy: 0.4680 - val_loss: 1.3241 - val_accuracy: 0.4990\n",
      "Epoch 3/5\n",
      "898/898 [==============================] - 46s 51ms/step - loss: 1.2491 - accuracy: 0.5282 - val_loss: 1.2478 - val_accuracy: 0.5227\n",
      "Epoch 4/5\n",
      "898/898 [==============================] - 45s 50ms/step - loss: 1.1540 - accuracy: 0.5636 - val_loss: 1.2122 - val_accuracy: 0.5371\n",
      "Epoch 5/5\n",
      "898/898 [==============================] - 47s 53ms/step - loss: 1.0683 - accuracy: 0.5998 - val_loss: 1.1971 - val_accuracy: 0.5485\n"
     ]
    }
   ],
   "source": [
    "epochs=5\n",
    "history = model.fit(\n",
    "  dataset_train,\n",
    "  validation_data=dataset_test,\n",
    "  epochs=epochs\n",
    ")\n"
   ]
  },
  {
   "cell_type": "code",
   "execution_count": 43,
   "id": "3c12005d",
   "metadata": {
    "scrolled": false
   },
   "outputs": [],
   "source": [
    "def showHistory(history, epochs):\n",
    "    acc = history.history['accuracy']\n",
    "    val_acc = history.history['val_accuracy']\n",
    "\n",
    "    loss = history.history['loss']\n",
    "    val_loss = history.history['val_loss']\n",
    "\n",
    "    epochs_range = range(epochs)\n",
    "\n",
    "    plt.figure(figsize=(8, 8))\n",
    "    plt.subplot(1, 2, 1)\n",
    "    plt.plot(epochs_range, acc, label='Training Accuracy')\n",
    "    plt.plot(epochs_range, val_acc, label='Validation Accuracy')\n",
    "    plt.legend(loc='lower right')\n",
    "    plt.title('Training and Validation Accuracy')\n",
    "\n",
    "    plt.subplot(1, 2, 2)\n",
    "    plt.plot(epochs_range, loss, label='Training Loss')\n",
    "    plt.plot(epochs_range, val_loss, label='Validation Loss')\n",
    "    plt.legend(loc='upper right')\n",
    "    plt.title('Training and Validation Loss')\n"
   ]
  },
  {
   "cell_type": "code",
   "execution_count": 44,
   "id": "23299130",
   "metadata": {},
   "outputs": [
    {
     "data": {
      "image/png": "[encoded data removed]",
      "text/plain": [
       "<Figure size 576x576 with 2 Axes>"
      ]
     },
     "metadata": {
      "needs_background": "light"
     },
     "output_type": "display_data"
    }
   ],
   "source": [
    "showHistory(history,epochs)"
   ]
  },
  {
   "cell_type": "markdown",
   "id": "74181564",
   "metadata": {},
   "source": [
    "Diese Plots zeigen Overfitting, deshalb muss dem entgegengewirkt werden. Hierfür werden zwei Änderungen eingeführt:\n",
    "- Data-Augmentation: Leichtes Verändern der Input-Bilder um \"genereller\" zu lernen\n",
    "- Dropout "
   ]
  },
  {
   "cell_type": "code",
   "execution_count": 45,
   "id": "fcc0ff6d",
   "metadata": {},
   "outputs": [],
   "source": [
    "data_augmentation = keras.Sequential(\n",
    "  [\n",
    "    layers.RandomFlip(\"horizontal\",\n",
    "                      input_shape=(image_size_x,\n",
    "                                  image_size_y,\n",
    "                                  3)),\n",
    "    layers.RandomRotation(0.1),\n",
    "    layers.RandomZoom(0.1),\n",
    "  ]\n",
    ")"
   ]
  },
  {
   "cell_type": "code",
   "execution_count": 46,
   "id": "8264b8d5",
   "metadata": {},
   "outputs": [],
   "source": [
    "model = keras.Sequential([\n",
    "  data_augmentation,\n",
    "  layers.Rescaling(1./255),\n",
    "  layers.Conv2D(32, 3, padding='same', activation='relu'),\n",
    "  layers.MaxPooling2D(),\n",
    "  layers.Conv2D(48, 3, padding='same', activation='relu'),\n",
    "  layers.MaxPooling2D(),\n",
    "  layers.Conv2D(64, 3, padding='same', activation='relu'),\n",
    "  layers.MaxPooling2D(),\n",
    "  layers.Dropout(0.2),\n",
    "  layers.Flatten(),\n",
    "  layers.Dense(128, activation='relu' ),\n",
    "  layers.Dense(num_classes,activation='softmax')\n",
    "])\n"
   ]
  },
  {
   "cell_type": "code",
   "execution_count": 47,
   "id": "5059a595",
   "metadata": {},
   "outputs": [],
   "source": [
    "model.compile(optimizer=\"adam\",\n",
    "              loss=tf.keras.losses.SparseCategoricalCrossentropy(),\n",
    "              metrics=['accuracy'])\n"
   ]
  },
  {
   "cell_type": "code",
   "execution_count": null,
   "id": "11f191bd",
   "metadata": {},
   "outputs": [],
   "source": [
    "model.summary()"
   ]
  },
  {
   "cell_type": "code",
   "execution_count": 48,
   "id": "dd14419b",
   "metadata": {},
   "outputs": [
    {
     "name": "stdout",
     "output_type": "stream",
     "text": [
      "Epoch 1/5\n",
      "898/898 [==============================] - 69s 76ms/step - loss: 1.7498 - accuracy: 0.2777 - val_loss: 1.6471 - val_accuracy: 0.3451\n",
      "Epoch 2/5\n",
      "898/898 [==============================] - 70s 78ms/step - loss: 1.6293 - accuracy: 0.3579 - val_loss: 1.4775 - val_accuracy: 0.4274\n",
      "Epoch 3/5\n",
      "898/898 [==============================] - 70s 78ms/step - loss: 1.5187 - accuracy: 0.4085 - val_loss: 1.3936 - val_accuracy: 0.4634\n",
      "Epoch 4/5\n",
      "898/898 [==============================] - 70s 78ms/step - loss: 1.4424 - accuracy: 0.4442 - val_loss: 1.3324 - val_accuracy: 0.4862\n",
      "Epoch 5/5\n",
      "898/898 [==============================] - 71s 79ms/step - loss: 1.3976 - accuracy: 0.4606 - val_loss: 1.3567 - val_accuracy: 0.4792\n"
     ]
    }
   ],
   "source": [
    "epochs=5\n",
    "history = model.fit(\n",
    "  dataset_train,\n",
    "  validation_data=dataset_test,\n",
    "  epochs=epochs\n",
    ")"
   ]
  },
  {
   "cell_type": "code",
   "execution_count": 49,
   "id": "c90dbc95",
   "metadata": {},
   "outputs": [
    {
     "data": {
      "image/png": "[encoded data removed]",
      "text/plain": [
       "<Figure size 576x576 with 2 Axes>"
      ]
     },
     "metadata": {
      "needs_background": "light"
     },
     "output_type": "display_data"
    }
   ],
   "source": [
    "showHistory(history,epochs)"
   ]
  },
  {
   "cell_type": "code",
   "execution_count": 20,
   "id": "9aaaf775",
   "metadata": {},
   "outputs": [],
   "source": [
    "from alibi.explainers import AnchorImage"
   ]
  },
  {
   "cell_type": "code",
   "execution_count": 50,
   "id": "bf45640e",
   "metadata": {},
   "outputs": [],
   "source": [
    "predict_fn = lambda x: model.predict(x)"
   ]
  },
  {
   "cell_type": "code",
   "execution_count": 52,
   "id": "6b55a203",
   "metadata": {},
   "outputs": [
    {
     "name": "stdout",
     "output_type": "stream",
     "text": [
      "1/1 [==============================] - 0s 57ms/step\n",
      "1/1 [==============================] - 0s 17ms/step\n",
      "4/4 [==============================] - 0s 9ms/step\n"
     ]
    },
    {
     "name": "stderr",
     "output_type": "stream",
     "text": [
      "Clipping input data to the valid range for imshow with RGB data ([0..1] for floats or [0..255] for integers).\n"
     ]
    },
    {
     "data": {
      "image/png": "[encoded data removed]",
      "text/plain": [
       "<Figure size 576x288 with 3 Axes>"
      ]
     },
     "metadata": {
      "needs_background": "light"
     },
     "output_type": "display_data"
    }
   ],
   "source": [
    "image= first_image_of_batch.reshape(image_size_x,image_size_y,3)\n",
    "\n",
    "segmentation_fn = 'felzenszwalb'\n",
    "kwargs = {'scale': 700}\n",
    "\n",
    "explainer = AnchorImage(predict_fn, image.shape)\n",
    "\n",
    "\n",
    "np.random.seed(42)\n",
    "explanation = explainer.explain(image, threshold=.95, p_sample=.5, tau=0.25)\n",
    "original = image\n",
    "\n",
    "fig, axes = plt.subplots(1, 3, figsize=(8, 4))\n",
    "ax = axes.ravel()\n",
    "\n",
    "ax[0].imshow(original)\n",
    "ax[0].set_title(\"Original\")\n",
    "ax[1].imshow(explanation.segments)\n",
    "ax[1].set_title(\"Superpixels\")\n",
    "ax[2].imshow(explanation.anchor)\n",
    "ax[2].set_title(\"Achor\")\n",
    "\n",
    "fig.tight_layout()\n",
    "plt.show()"
   ]
  },
  {
   "cell_type": "markdown",
   "id": "647ed715",
   "metadata": {},
   "source": [
    "Nächste Schritte:\n",
    "- \"Neue\" Klassifikation: \"Happy\" und \"Not-Happy\"\n",
    "- Literatur-Recherche zu FER2013 -> Welche Modelle schneiden besser ab?\n",
    "- Preprocessing der Bilder (z.B. Helligkeits-Angleichung o.Ä.)\n",
    "- Erweiterung der Datenbasis?\n",
    "- Weiter Einarbeitung in CNNs"
   ]
  },
  {
   "cell_type": "code",
   "execution_count": null,
   "id": "184c0a4d",
   "metadata": {},
   "outputs": [],
   "source": [
    "Probleme: Alibi braucht 3 farbchanncels. anscheinend hat das einlesen hier nicht geklappt"
   ]
  }
 ],
 "metadata": {
  "kernelspec": {
   "display_name": "Python 3 (ipykernel)",
   "language": "python",
   "name": "python3"
  },
  "language_info": {
   "codemirror_mode": {
    "name": "ipython",
    "version": 3
   },
   "file_extension": ".py",
   "mimetype": "text/x-python",
   "name": "python",
   "nbconvert_exporter": "python",
   "pygments_lexer": "ipython3",
   "version": "3.10.0"
  }
 },
 "nbformat": 4,
 "nbformat_minor": 5
}
